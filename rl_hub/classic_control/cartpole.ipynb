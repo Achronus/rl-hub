{
 "cells": [
  {
   "cell_type": "markdown",
   "metadata": {},
   "source": [
    "# Cartpole Environment Demo\n",
    "[Gymnasium Link](https://gymnasium.farama.org/environments/classic_control/cart_pole/)"
   ]
  },
  {
   "cell_type": "code",
   "execution_count": 1,
   "metadata": {},
   "outputs": [],
   "source": [
    "import gymnasium as gym\n",
    "\n",
    "from rl_hub.core.config import load_config\n",
    "from rl_hub.env_handler.gym import GymEnvHandler"
   ]
  },
  {
   "cell_type": "markdown",
   "metadata": {},
   "source": [
    "We'll start by loading in our config file and exploring our environment using the `run_demo()` method."
   ]
  },
  {
   "cell_type": "code",
   "execution_count": 2,
   "metadata": {},
   "outputs": [
    {
     "data": {
      "text/plain": [
       "GymEnvConfig(ENV=EnvironmentConfig(NAME='CartPole-v1', EPISODES=20, SEED=23))"
      ]
     },
     "execution_count": 2,
     "metadata": {},
     "output_type": "execute_result"
    }
   ],
   "source": [
    "config = load_config(\"cartpole.yaml\")\n",
    "config"
   ]
  },
  {
   "cell_type": "code",
   "execution_count": 3,
   "metadata": {},
   "outputs": [
    {
     "name": "stdout",
     "output_type": "stream",
     "text": [
      "Episode 1/10: 68.0 score\n",
      "Episode 2/10: 21.0 score\n",
      "Episode 3/10: 16.0 score\n",
      "Episode 4/10: 27.0 score\n",
      "Episode 5/10: 17.0 score\n",
      "Episode 6/10: 18.0 score\n",
      "Episode 7/10: 14.0 score\n",
      "Episode 8/10: 17.0 score\n",
      "Episode 9/10: 44.0 score\n",
      "Episode 10/10: 22.0 score\n"
     ]
    }
   ],
   "source": [
    "handler = GymEnvHandler(config=config)\n",
    "handler.run_demo()"
   ]
  },
  {
   "cell_type": "markdown",
   "metadata": {},
   "source": [
    "We can explore the environment attributes using `handler.env`. Here's an example with the `action_space` and the `observation_space`."
   ]
  },
  {
   "cell_type": "code",
   "execution_count": 4,
   "metadata": {},
   "outputs": [
    {
     "name": "stdout",
     "output_type": "stream",
     "text": [
      "2\n",
      "Box([-4.8               -inf -0.41887903        -inf], [4.8               inf 0.41887903        inf], (4,), float32)\n"
     ]
    }
   ],
   "source": [
    "print(handler.env.action_space.n)\n",
    "print(handler.env.observation_space)"
   ]
  },
  {
   "cell_type": "code",
   "execution_count": null,
   "metadata": {},
   "outputs": [],
   "source": []
  }
 ],
 "metadata": {
  "kernelspec": {
   "display_name": "env",
   "language": "python",
   "name": "python3"
  },
  "language_info": {
   "codemirror_mode": {
    "name": "ipython",
    "version": 3
   },
   "file_extension": ".py",
   "mimetype": "text/x-python",
   "name": "python",
   "nbconvert_exporter": "python",
   "pygments_lexer": "ipython3",
   "version": "3.12.4"
  }
 },
 "nbformat": 4,
 "nbformat_minor": 2
}
